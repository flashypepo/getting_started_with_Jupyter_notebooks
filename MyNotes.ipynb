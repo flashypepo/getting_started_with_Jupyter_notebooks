{
 "cells": [
  {
   "cell_type": "markdown",
   "id": "35daca6c-04d1-470e-960c-b7dc413078a2",
   "metadata": {},
   "source": [
    "# NLTK instalation\n",
    "\n",
    "### Remarks on section **2.1 Workflow: Customizing Your notebook** \n",
    "- Activate virtual environment before installation: `conda activate lifeproject`\n",
    "\n",
    "- Lifeproject instruction: `pip install nltk`. The instruction `conda install -c conda-forge nltk` also installs nltk (and tqdm).\n",
    "\n",
    "- Numpy: `conda install -c conda-forge numpy`\n"
   ]
  },
  {
   "cell_type": "code",
   "execution_count": 8,
   "id": "a97bd136-f78f-488d-a479-894af2c17efb",
   "metadata": {},
   "outputs": [
    {
     "name": "stdout",
     "output_type": "stream",
     "text": [
      "numpy: 1.20.3\n",
      "tqdm: 4.60.0\n",
      "nltk: 3.6.2\n"
     ]
    }
   ],
   "source": [
    "# check versions\n",
    "import numpy as np\n",
    "print(\"numpy:\", np.__version__)\n",
    "\n",
    "import tqdm\n",
    "print(\"tqdm:\", tqdm.__version__)\n",
    "\n",
    "import nltk\n",
    "print(\"nltk:\", nltk.__version__)"
   ]
  },
  {
   "cell_type": "code",
   "execution_count": 12,
   "id": "38768fff-dabb-461d-8b7c-332caf6b0bb4",
   "metadata": {},
   "outputs": [
    {
     "data": {
      "application/json": {
       "cell": {
        "!": "OSMagics",
        "HTML": "Other",
        "SVG": "Other",
        "bash": "Other",
        "capture": "ExecutionMagics",
        "debug": "ExecutionMagics",
        "file": "Other",
        "html": "DisplayMagics",
        "javascript": "DisplayMagics",
        "js": "DisplayMagics",
        "latex": "DisplayMagics",
        "markdown": "DisplayMagics",
        "perl": "Other",
        "prun": "ExecutionMagics",
        "pypy": "Other",
        "python": "Other",
        "python2": "Other",
        "python3": "Other",
        "ruby": "Other",
        "script": "ScriptMagics",
        "sh": "Other",
        "svg": "DisplayMagics",
        "sx": "OSMagics",
        "system": "OSMagics",
        "time": "ExecutionMagics",
        "timeit": "ExecutionMagics",
        "writefile": "OSMagics"
       },
       "line": {
        "alias": "OSMagics",
        "alias_magic": "BasicMagics",
        "autoawait": "AsyncMagics",
        "autocall": "AutoMagics",
        "automagic": "AutoMagics",
        "autosave": "KernelMagics",
        "bookmark": "OSMagics",
        "cat": "Other",
        "cd": "OSMagics",
        "clear": "KernelMagics",
        "colors": "BasicMagics",
        "conda": "PackagingMagics",
        "config": "ConfigMagics",
        "connect_info": "KernelMagics",
        "cp": "Other",
        "debug": "ExecutionMagics",
        "dhist": "OSMagics",
        "dirs": "OSMagics",
        "doctest_mode": "BasicMagics",
        "ed": "Other",
        "edit": "KernelMagics",
        "env": "OSMagics",
        "gui": "BasicMagics",
        "hist": "Other",
        "history": "HistoryMagics",
        "killbgscripts": "ScriptMagics",
        "ldir": "Other",
        "less": "KernelMagics",
        "lf": "Other",
        "lk": "Other",
        "ll": "Other",
        "load": "CodeMagics",
        "load_ext": "ExtensionMagics",
        "loadpy": "CodeMagics",
        "logoff": "LoggingMagics",
        "logon": "LoggingMagics",
        "logstart": "LoggingMagics",
        "logstate": "LoggingMagics",
        "logstop": "LoggingMagics",
        "ls": "Other",
        "lsmagic": "BasicMagics",
        "lx": "Other",
        "macro": "ExecutionMagics",
        "magic": "BasicMagics",
        "man": "KernelMagics",
        "matplotlib": "PylabMagics",
        "mkdir": "Other",
        "more": "KernelMagics",
        "mv": "Other",
        "notebook": "BasicMagics",
        "page": "BasicMagics",
        "pastebin": "CodeMagics",
        "pdb": "ExecutionMagics",
        "pdef": "NamespaceMagics",
        "pdoc": "NamespaceMagics",
        "pfile": "NamespaceMagics",
        "pinfo": "NamespaceMagics",
        "pinfo2": "NamespaceMagics",
        "pip": "PackagingMagics",
        "popd": "OSMagics",
        "pprint": "BasicMagics",
        "precision": "BasicMagics",
        "prun": "ExecutionMagics",
        "psearch": "NamespaceMagics",
        "psource": "NamespaceMagics",
        "pushd": "OSMagics",
        "pwd": "OSMagics",
        "pycat": "OSMagics",
        "pylab": "PylabMagics",
        "qtconsole": "KernelMagics",
        "quickref": "BasicMagics",
        "recall": "HistoryMagics",
        "rehashx": "OSMagics",
        "reload_ext": "ExtensionMagics",
        "rep": "Other",
        "rerun": "HistoryMagics",
        "reset": "NamespaceMagics",
        "reset_selective": "NamespaceMagics",
        "rm": "Other",
        "rmdir": "Other",
        "run": "ExecutionMagics",
        "save": "CodeMagics",
        "sc": "OSMagics",
        "set_env": "OSMagics",
        "store": "StoreMagics",
        "sx": "OSMagics",
        "system": "OSMagics",
        "tb": "ExecutionMagics",
        "time": "ExecutionMagics",
        "timeit": "ExecutionMagics",
        "unalias": "OSMagics",
        "unload_ext": "ExtensionMagics",
        "who": "NamespaceMagics",
        "who_ls": "NamespaceMagics",
        "whos": "NamespaceMagics",
        "xdel": "NamespaceMagics",
        "xmode": "BasicMagics"
       }
      },
      "text/plain": [
       "Available line magics:\n",
       "%alias  %alias_magic  %autoawait  %autocall  %automagic  %autosave  %bookmark  %cat  %cd  %clear  %colors  %conda  %config  %connect_info  %cp  %debug  %dhist  %dirs  %doctest_mode  %ed  %edit  %env  %gui  %hist  %history  %killbgscripts  %ldir  %less  %lf  %lk  %ll  %load  %load_ext  %loadpy  %logoff  %logon  %logstart  %logstate  %logstop  %ls  %lsmagic  %lx  %macro  %magic  %man  %matplotlib  %mkdir  %more  %mv  %notebook  %page  %pastebin  %pdb  %pdef  %pdoc  %pfile  %pinfo  %pinfo2  %pip  %popd  %pprint  %precision  %prun  %psearch  %psource  %pushd  %pwd  %pycat  %pylab  %qtconsole  %quickref  %recall  %rehashx  %reload_ext  %rep  %rerun  %reset  %reset_selective  %rm  %rmdir  %run  %save  %sc  %set_env  %store  %sx  %system  %tb  %time  %timeit  %unalias  %unload_ext  %who  %who_ls  %whos  %xdel  %xmode\n",
       "\n",
       "Available cell magics:\n",
       "%%!  %%HTML  %%SVG  %%bash  %%capture  %%debug  %%file  %%html  %%javascript  %%js  %%latex  %%markdown  %%perl  %%prun  %%pypy  %%python  %%python2  %%python3  %%ruby  %%script  %%sh  %%svg  %%sx  %%system  %%time  %%timeit  %%writefile\n",
       "\n",
       "Automagic is ON, % prefix IS NOT needed for line magics."
      ]
     },
     "execution_count": 12,
     "metadata": {},
     "output_type": "execute_result"
    }
   ],
   "source": [
    "# magics: https://blog.dominodatalab.com/lesser-known-ways-of-using-notebooks/\n",
    "%lsmagic"
   ]
  },
  {
   "cell_type": "code",
   "execution_count": 13,
   "id": "b51fbd67-9932-468a-93ae-56e243cbb7eb",
   "metadata": {},
   "outputs": [
    {
     "data": {
      "text/plain": [
       "{'SHELL': '/bin/zsh',\n",
       " 'TMPDIR': '/var/folders/hy/31_hw5rn1qsdxnd_tjspw9x00000gn/T/',\n",
       " 'CONDA_SHLVL': '1',\n",
       " 'CONDA_PROMPT_MODIFIER': '(py3cv4) ',\n",
       " 'GSETTINGS_SCHEMA_DIR_CONDA_BACKUP': '',\n",
       " 'LC_ALL': 'en_US.UTF-8',\n",
       " 'USER': 'pepo',\n",
       " 'COMMAND_MODE': 'unix2003',\n",
       " 'CONDA_EXE': '/Users/pepo/opt/anaconda3/bin/conda',\n",
       " 'SSH_AUTH_SOCK': '/private/tmp/com.apple.launchd.ql6xki50P4/Listeners',\n",
       " '__CF_USER_TEXT_ENCODING': '0x1F5:0:0',\n",
       " '_CE_CONDA': '',\n",
       " 'CONDA_ROOT': '/Users/pepo/opt/anaconda3',\n",
       " 'PATH': '/Users/pepo/opt/anaconda3/envs/py3cv4/bin:/Users/pepo/opt/anaconda3/condabin:/usr/bin:/bin:/usr/sbin:/sbin',\n",
       " 'GSETTINGS_SCHEMA_DIR': '/Users/pepo/opt/anaconda3/envs/py3cv4/share/glib-2.0/schemas',\n",
       " 'LaunchInstanceID': 'F5BEF11F-A6B9-470F-9051-3157AD3582A7',\n",
       " 'CONDA_PREFIX': '/Users/pepo/opt/anaconda3/envs/py3cv4',\n",
       " '__CFBundleIdentifier': 'com.anaconda.io',\n",
       " 'PWD': '/Users/pepo',\n",
       " 'DBUS_LAUNCHD_SESSION_BUS_SOCKET': '/private/tmp/com.apple.launchd.S4JISeZhzy/unix_domain_listener',\n",
       " 'LANG': 'en_US.UTF-8',\n",
       " 'XPC_FLAGS': '0x0',\n",
       " '_CE_M': '',\n",
       " 'XPC_SERVICE_NAME': '0',\n",
       " 'HOME': '/Users/pepo',\n",
       " 'SHLVL': '2',\n",
       " 'CONDA_PYTHON_EXE': '/Users/pepo/opt/anaconda3/bin/python',\n",
       " 'LOGNAME': 'pepo',\n",
       " 'LC_CTYPE': 'UTF-8',\n",
       " 'CONDA_DEFAULT_ENV': 'py3cv4',\n",
       " 'DISPLAY': '/private/tmp/com.apple.launchd.FsURKBT029/org.macosforge.xquartz:0',\n",
       " 'SECURITYSESSIONID': '186a6',\n",
       " '_': '/Users/pepo/opt/anaconda3/envs/py3cv4/bin/jupyter',\n",
       " 'GIT_PYTHON_REFRESH': 'quiet',\n",
       " 'JPY_PARENT_PID': '96941',\n",
       " 'TERM': 'xterm-color',\n",
       " 'CLICOLOR': '1',\n",
       " 'PAGER': 'cat',\n",
       " 'GIT_PAGER': 'cat',\n",
       " 'MPLBACKEND': 'module://ipykernel.pylab.backend_inline'}"
      ]
     },
     "execution_count": 13,
     "metadata": {},
     "output_type": "execute_result"
    }
   ],
   "source": [
    "%env"
   ]
  },
  {
   "cell_type": "code",
   "execution_count": 17,
   "id": "dafa4e45-fbcf-4c31-beea-d617fe634769",
   "metadata": {},
   "outputs": [
    {
     "data": {
      "text/latex": [
       "\\begin\n",
       "a = \\fraq(1)(2)\n",
       "\\end\n"
      ],
      "text/plain": [
       "<IPython.core.display.Latex object>"
      ]
     },
     "metadata": {},
     "output_type": "display_data"
    }
   ],
   "source": [
    "%%latex\n",
    "\\begin\n",
    "a = \\fraq(1)(2)\n",
    "\\end"
   ]
  },
  {
   "cell_type": "code",
   "execution_count": 18,
   "id": "f2c9a89e-d658-4f8c-ae9e-370fab5182b5",
   "metadata": {},
   "outputs": [
    {
     "name": "stdout",
     "output_type": "stream",
     "text": [
      "CPU times: user 4 µs, sys: 1e+03 ns, total: 5 µs\n",
      "Wall time: 7.87 µs\n"
     ]
    }
   ],
   "source": [
    "%time x = range(10000)"
   ]
  },
  {
   "cell_type": "code",
   "execution_count": 19,
   "id": "abd5f06f-323a-4e10-857c-d70cd3bba0a9",
   "metadata": {},
   "outputs": [
    {
     "name": "stdout",
     "output_type": "stream",
     "text": [
      "403 µs ± 3.29 µs per loop (mean ± std. dev. of 7 runs, 1000 loops each)\n"
     ]
    }
   ],
   "source": [
    "%%timeit x = range(10000)\n",
    "max(x)"
   ]
  },
  {
   "cell_type": "code",
   "execution_count": null,
   "id": "1b00488e-8e60-47bf-9f57-867de88b0576",
   "metadata": {},
   "outputs": [],
   "source": []
  }
 ],
 "metadata": {
  "kernelspec": {
   "display_name": "lifeproject",
   "language": "python",
   "name": "lifeproject"
  },
  "language_info": {
   "codemirror_mode": {
    "name": "ipython",
    "version": 3
   },
   "file_extension": ".py",
   "mimetype": "text/x-python",
   "name": "python",
   "nbconvert_exporter": "python",
   "pygments_lexer": "ipython3",
   "version": "3.9.5"
  }
 },
 "nbformat": 4,
 "nbformat_minor": 5
}
