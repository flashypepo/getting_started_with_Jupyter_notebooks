{
 "cells": [
  {
   "cell_type": "markdown",
   "id": "ebf3607a-5f2d-4272-bea2-bfb858e4a19f",
   "metadata": {
    "tags": []
   },
   "source": [
    "# Workflow 1 - Setup Jupyter notebook environment\n",
    "\n",
    "Activate virtual environment before installation: `conda activate lifeproject`\n",
    "\n",
    "- NLTK installation\n",
    "    * Lifeproject instruction: `pip install nltk`. \n",
    "    * However, I used `conda install -c conda-forge nltk` which also installs `nltk` (and `tqdm`)."
   ]
  },
  {
   "cell_type": "markdown",
   "id": "a8e41fdf-b793-43e9-b31f-285cec5694cd",
   "metadata": {
    "tags": []
   },
   "source": [
    "# Workflow 2 - Customizing Your notebook \n",
    "\n",
    "Activate virtual environment before installation of any package.\n",
    "`conda activate lifeproject`\n",
    "\n",
    "### Installation of packages\n",
    "1. Numpy: `conda install -c conda-forge numpy`\n",
    "\n",
    "2. Black code formatter:\n",
    "    After some research (googling) site: [Jupyter code formatter](\n",
    "https://jupyterlab-code-formatter.readthedocs.io/en/latest/installation.html)\n",
    "    * installation: `conda install -c conda-forge jupyterlab_code_formatter`\n",
    "    * installation of Python formatter black: `conda install black isort`\n",
    "    * Jupyterlab needs to be shutdown and restarted via Anaconda Navigator!\n",
    "\n",
    "    In Edit menu following two options appear: `Apply Black formatter` and `Apply iSort formatter`.</br>\n",
    "    Obvious, the `black` formatter works in a code-cell. I've not tried yet `isort`.</br>\n",
    "    Note: one one formatter `black` or `isort` will do. Oops, didnot read instruction very well.\n",
    "\n",
    "3. Snippets\n",
    "    Installation instructions (Jupyterlab >=3): [JupyterLab-Code-Snippets](https://github.com/jupytercalpoly/jupyterlab-code-snippets)</br>\n",
    "\n",
    "    I used `pip` because a `conda` installation does not exists.</br>\n",
    "    code-snippets: `pip install jupyterlab-code-snippets`</br>\n",
    "    Then shutdown and restart Jupyterlab server via Anaconda Navigator.</br>\n",
    "    Extra option: '</>' in left sidebar, when opent it shows the snippets. Insert snippets and make new snippet works as expected.\n",
    "\n",
    "4. Collapsible Heading (Jupyterlab >=3)\n",
    "\n",
    "    * Installation: `pip install aquirdturtle_collapsible_headings`</br>\n",
    "    * Restart Jupyerlab (shutdown, restart)</br>\n",
    "    * Resource: [Collapsible_Heading](https://github.com/aquirdTurtle/Collapsible_Headings)\n",
    "    * \"arrow\" appears in front of a Heading. \n",
    "    * Collapsing? - to be tested. It appears to hide the next cell!\n",
    "    \n",
    "5. GIT extension\n",
    "\n",
    "    * Installation: `conda install -c conda-forge jupyterlab-git`</br>\n",
    "    * Restart Jupyterlab (shutdown, restart)</br>\n",
    "    "
   ]
  },
  {
   "cell_type": "markdown",
   "id": "e5aafda8-a252-42db-9ca0-a6b9f2512260",
   "metadata": {
    "tags": []
   },
   "source": [
    "# Resources \n",
    "* book Peter Harrington - Machine Learning in Action\n",
    "    * see O'Reilly - ebook\n",
    "    * maybe to order as pbook\n",
    "* JupyterLab Code formatter - [ReadTheDocs](https://jupyterlab-code-formatter.readthedocs.io/en/latest/installation.html)"
   ]
  },
  {
   "cell_type": "code",
   "execution_count": 1,
   "id": "a97bd136-f78f-488d-a479-894af2c17efb",
   "metadata": {},
   "outputs": [
    {
     "name": "stdout",
     "output_type": "stream",
     "text": [
      "nltk: 3.6.2\n",
      "numpy: 1.20.3\n",
      "tqdm: 4.60.0\n"
     ]
    }
   ],
   "source": [
    "# check versions\n",
    "import nltk\n",
    "import numpy as np\n",
    "import tqdm\n",
    "\n",
    "print(\"nltk:\", nltk.__version__)\n",
    "print(\"numpy:\", np.__version__)\n",
    "print(\"tqdm:\", tqdm.__version__)"
   ]
  },
  {
   "cell_type": "code",
   "execution_count": null,
   "id": "38768fff-dabb-461d-8b7c-332caf6b0bb4",
   "metadata": {},
   "outputs": [],
   "source": [
    "# magics: https://blog.dominodatalab.com/lesser-known-ways-of-using-notebooks/\n",
    "%lsmagic"
   ]
  },
  {
   "cell_type": "code",
   "execution_count": 11,
   "id": "b51fbd67-9932-468a-93ae-56e243cbb7eb",
   "metadata": {},
   "outputs": [
    {
     "data": {
      "text/plain": [
       "{'SHELL': '/bin/zsh',\n",
       " 'TMPDIR': '/var/folders/hy/31_hw5rn1qsdxnd_tjspw9x00000gn/T/',\n",
       " 'CONDA_SHLVL': '1',\n",
       " 'CONDA_PROMPT_MODIFIER': '(lifeproject) ',\n",
       " 'LC_ALL': 'en_US.UTF-8',\n",
       " 'USER': 'pepo',\n",
       " 'COMMAND_MODE': 'unix2003',\n",
       " 'CONDA_EXE': '/Users/pepo/opt/anaconda3/bin/conda',\n",
       " 'SSH_AUTH_SOCK': '/private/tmp/com.apple.launchd.ql6xki50P4/Listeners',\n",
       " '__CF_USER_TEXT_ENCODING': '0x1F5:0:0',\n",
       " '_CE_CONDA': '',\n",
       " 'CONDA_ROOT': '/Users/pepo/opt/anaconda3',\n",
       " 'PATH': '/Users/pepo/opt/anaconda3/envs/lifeproject/bin:/Users/pepo/opt/anaconda3/condabin:/usr/bin:/bin:/usr/sbin:/sbin',\n",
       " 'LaunchInstanceID': 'F5BEF11F-A6B9-470F-9051-3157AD3582A7',\n",
       " 'CONDA_PREFIX': '/Users/pepo/opt/anaconda3/envs/lifeproject',\n",
       " '__CFBundleIdentifier': 'com.anaconda.io',\n",
       " 'PWD': '/Users/pepo',\n",
       " 'DBUS_LAUNCHD_SESSION_BUS_SOCKET': '/private/tmp/com.apple.launchd.S4JISeZhzy/unix_domain_listener',\n",
       " 'LANG': 'en_US.UTF-8',\n",
       " 'XPC_FLAGS': '0x0',\n",
       " '_CE_M': '',\n",
       " 'XPC_SERVICE_NAME': '0',\n",
       " 'HOME': '/Users/pepo',\n",
       " 'SHLVL': '2',\n",
       " 'CONDA_PYTHON_EXE': '/Users/pepo/opt/anaconda3/bin/python',\n",
       " 'LOGNAME': 'pepo',\n",
       " 'LC_CTYPE': 'UTF-8',\n",
       " 'CONDA_DEFAULT_ENV': 'lifeproject',\n",
       " 'DISPLAY': '/private/tmp/com.apple.launchd.FsURKBT029/org.macosforge.xquartz:0',\n",
       " 'SECURITYSESSIONID': '186a6',\n",
       " '_': '/Users/pepo/opt/anaconda3/envs/lifeproject/bin/jupyter',\n",
       " 'JPY_PARENT_PID': '13766',\n",
       " 'TERM': 'xterm-color',\n",
       " 'CLICOLOR': '1',\n",
       " 'PAGER': 'cat',\n",
       " 'GIT_PAGER': 'cat',\n",
       " 'MPLBACKEND': 'module://ipykernel.pylab.backend_inline'}"
      ]
     },
     "execution_count": 11,
     "metadata": {},
     "output_type": "execute_result"
    }
   ],
   "source": [
    "%env"
   ]
  },
  {
   "cell_type": "markdown",
   "id": "07e99b33-ec34-49e4-8ad7-4cc1feced139",
   "metadata": {},
   "source": [
    "### LateX formula's\n",
    "\n",
    "1. a fraction number\n",
    "2. Lorentz equation\n",
    "3. Pythagoras theorem   \\${a}^2 + {b}^2 = {c}^2$\n",
    "\n",
    "The Markdown parser included in the Jupyter Notebook is MathJax-aware. This means that you can freely mix in mathematical expressions using the MathJax subset of Tex and LaTeX. Some examples from the MathJax demos site are reproduced below, as well as the Markdown+TeX source.\n",
    "\n",
    "Embedded LaTeX in a Markup-cell, using \\${a}^2$, however it requires more then once re-rendering of a cell.\n",
    "\n",
    "Resource: [Notebook examples - readthedocs](https://jupyter-notebook.readthedocs.io/en/stable/examples/Notebook/Typesetting%20Equations.html)"
   ]
  },
  {
   "cell_type": "code",
   "execution_count": 17,
   "id": "dafa4e45-fbcf-4c31-beea-d617fe634769",
   "metadata": {},
   "outputs": [
    {
     "data": {
      "text/latex": [
       "\\begin{align}\n",
       "a = \\frac{1}{2}\n",
       "\\end{align}\n"
      ],
      "text/plain": [
       "<IPython.core.display.Latex object>"
      ]
     },
     "metadata": {},
     "output_type": "display_data"
    }
   ],
   "source": [
    "%%latex\n",
    "\\begin{align}\n",
    "a = \\frac{1}{2}\n",
    "\\end{align}"
   ]
  },
  {
   "cell_type": "code",
   "execution_count": 18,
   "id": "f343fc52-0a62-423a-a012-9fb7eee5bd9a",
   "metadata": {},
   "outputs": [
    {
     "data": {
      "text/latex": [
       "\\begin{align}\n",
       "\\dot{x} & = \\sigma(y-x) \\\\\n",
       "\\dot{y} & = \\rho x - y - xz \\\\\n",
       "\\dot{z} & = -\\beta z + xy\n",
       "\\end{align}\n"
      ],
      "text/plain": [
       "<IPython.core.display.Latex object>"
      ]
     },
     "metadata": {},
     "output_type": "display_data"
    }
   ],
   "source": [
    "%%latex\n",
    "\\begin{align}\n",
    "\\dot{x} & = \\sigma(y-x) \\\\\n",
    "\\dot{y} & = \\rho x - y - xz \\\\\n",
    "\\dot{z} & = -\\beta z + xy\n",
    "\\end{align}"
   ]
  },
  {
   "cell_type": "code",
   "execution_count": 19,
   "id": "e6530aa4-8a0e-4fbb-90ae-b1fadfbe06d5",
   "metadata": {},
   "outputs": [
    {
     "data": {
      "text/latex": [
       "\\begin{align}\n",
       "{a}^2 + {b}^2 = {c}^2\n",
       "\\end{align}\n"
      ],
      "text/plain": [
       "<IPython.core.display.Latex object>"
      ]
     },
     "metadata": {},
     "output_type": "display_data"
    }
   ],
   "source": [
    "%%latex\n",
    "\\begin{align}\n",
    "{a}^2 + {b}^2 = {c}^2\n",
    "\\end{align}"
   ]
  },
  {
   "cell_type": "markdown",
   "id": "6da423d0-a252-4274-b04c-2623eaee9ef4",
   "metadata": {},
   "source": [
    "## Factorial timing and docstring\n",
    "\n",
    "1. functions defined with docstring.\n",
    "    * print via `__doc__` attribute and via `help()`\n",
    "2. timed via `%timeit`\n",
    "\n",
    "Resource docstring: [Python Docstrings](https://www.programiz.com/python-programming/docstrings)\n",
    "\n",
    "Note: getting return value via `%timeit` on one line doesnot work as expected.</br>\n",
    "`%timeit fac = factorialA(100)` result in `NameError: name 'fac' is not defined`"
   ]
  },
  {
   "cell_type": "code",
   "execution_count": 20,
   "id": "578525a3-313c-40ac-ad53-904dc7f1366b",
   "metadata": {},
   "outputs": [
    {
     "name": "stdout",
     "output_type": "stream",
     "text": [
      "CPU times: user 4 µs, sys: 1 µs, total: 5 µs\n",
      "Wall time: 6.91 µs\n"
     ]
    }
   ],
   "source": [
    "%time x = range(1_000_000_000)"
   ]
  },
  {
   "cell_type": "code",
   "execution_count": 22,
   "id": "abd5f06f-323a-4e10-857c-d70cd3bba0a9",
   "metadata": {},
   "outputs": [
    {
     "name": "stdout",
     "output_type": "stream",
     "text": [
      "42.5 ms ± 656 µs per loop (mean ± std. dev. of 7 runs, 10 loops each)\n"
     ]
    }
   ],
   "source": [
    "%%timeit \n",
    "x = range(1_000_000)\n",
    "max(x)"
   ]
  },
  {
   "cell_type": "code",
   "execution_count": 24,
   "id": "c712dc7a-c5d1-4f03-b5ac-013ba88d9ac7",
   "metadata": {},
   "outputs": [],
   "source": [
    "# factorialA using a loop\n",
    "def factorialA(n):\n",
    "    fac = 1\n",
    "    for i in range(1, n + 1):\n",
    "        fac = fac * i\n",
    "    return fac"
   ]
  },
  {
   "cell_type": "code",
   "execution_count": 23,
   "id": "0e671f2a-d265-46e9-8d00-374624bd645a",
   "metadata": {},
   "outputs": [],
   "source": [
    "# factorialB, using recursion\n",
    "def factorialB(n):\n",
    "    if n == 1:\n",
    "        return n\n",
    "    else:\n",
    "        return n * factorialB(n-1)"
   ]
  },
  {
   "cell_type": "code",
   "execution_count": 25,
   "id": "0354fd25-73ba-4afe-b658-8f602c4c747a",
   "metadata": {},
   "outputs": [
    {
     "name": "stdout",
     "output_type": "stream",
     "text": [
      "12.2 µs ± 225 ns per loop (mean ± std. dev. of 7 runs, 100000 loops each)\n"
     ]
    },
    {
     "ename": "NameError",
     "evalue": "name 'fac' is not defined",
     "output_type": "error",
     "traceback": [
      "\u001b[0;31m---------------------------------------------------------------------------\u001b[0m",
      "\u001b[0;31mNameError\u001b[0m                                 Traceback (most recent call last)",
      "\u001b[0;32m<ipython-input-25-4dfbf9c91535>\u001b[0m in \u001b[0;36m<module>\u001b[0;34m\u001b[0m\n\u001b[1;32m      1\u001b[0m \u001b[0mnum\u001b[0m \u001b[0;34m=\u001b[0m \u001b[0;36m100\u001b[0m\u001b[0;34m\u001b[0m\u001b[0;34m\u001b[0m\u001b[0m\n\u001b[1;32m      2\u001b[0m \u001b[0mget_ipython\u001b[0m\u001b[0;34m(\u001b[0m\u001b[0;34m)\u001b[0m\u001b[0;34m.\u001b[0m\u001b[0mrun_line_magic\u001b[0m\u001b[0;34m(\u001b[0m\u001b[0;34m'timeit'\u001b[0m\u001b[0;34m,\u001b[0m \u001b[0;34m'fac = factorialA(num)'\u001b[0m\u001b[0;34m)\u001b[0m\u001b[0;34m\u001b[0m\u001b[0;34m\u001b[0m\u001b[0m\n\u001b[0;32m----> 3\u001b[0;31m \u001b[0mprint\u001b[0m\u001b[0;34m(\u001b[0m\u001b[0;34m\"factorialA of \"\u001b[0m\u001b[0;34m,\u001b[0m \u001b[0mnum\u001b[0m\u001b[0;34m,\u001b[0m \u001b[0;34m\" is \"\u001b[0m\u001b[0;34m,\u001b[0m \u001b[0mfac\u001b[0m\u001b[0;34m)\u001b[0m\u001b[0;34m\u001b[0m\u001b[0;34m\u001b[0m\u001b[0m\n\u001b[0m",
      "\u001b[0;31mNameError\u001b[0m: name 'fac' is not defined"
     ]
    }
   ],
   "source": [
    "num = 100\n",
    "%timeit fac = factorialA(num)\n",
    "print(\"factorialA of \", num, \" is \", fac)"
   ]
  },
  {
   "cell_type": "code",
   "execution_count": 31,
   "id": "f25f596a-169b-478a-a586-ca77200d6c81",
   "metadata": {},
   "outputs": [
    {
     "name": "stdout",
     "output_type": "stream",
     "text": [
      "29.5 µs ± 272 ns per loop (mean ± std. dev. of 7 runs, 10000 loops each)\n",
      "factorialB of  100  is  93326215443944152681699238856266700490715968264381621468592963895217599993229915608941463976156518286253697920827223758251185210916864000000000000000000000000\n"
     ]
    }
   ],
   "source": [
    "num = 100\n",
    "%timeit fac = factorialB(num)\n",
    "print(\"factorialB of \", num, \" is \", fac)"
   ]
  }
 ],
 "metadata": {
  "kernelspec": {
   "display_name": "lifeproject",
   "language": "python",
   "name": "lifeproject"
  },
  "language_info": {
   "codemirror_mode": {
    "name": "ipython",
    "version": 3
   },
   "file_extension": ".py",
   "mimetype": "text/x-python",
   "name": "python",
   "nbconvert_exporter": "python",
   "pygments_lexer": "ipython3",
   "version": "3.9.5"
  }
 },
 "nbformat": 4,
 "nbformat_minor": 5
}
