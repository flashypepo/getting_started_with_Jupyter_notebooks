{
 "cells": [
  {
   "cell_type": "code",
   "execution_count": 1,
   "id": "f74b7009-f03f-4609-8fb6-a8dfae003102",
   "metadata": {},
   "outputs": [
    {
     "name": "stdout",
     "output_type": "stream",
     "text": [
      "Hello World!\n"
     ]
    }
   ],
   "source": [
    "def hello_world():\n",
    "    print (\"Hello World!\")\n",
    "\n",
    "\n",
    "hello_world()"
   ]
  },
  {
   "cell_type": "markdown",
   "id": "93f76128-f4b0-49e6-8262-65168e958618",
   "metadata": {},
   "source": [
    "# Hello World\n",
    "\n",
    "The function `hello_world` prints text  **Hello World** in Notebook.\n",
    "\n",
    "---"
   ]
  }
 ],
 "metadata": {
  "kernelspec": {
   "display_name": "lifeproject",
   "language": "python",
   "name": "lifeproject"
  },
  "language_info": {
   "codemirror_mode": {
    "name": "ipython",
    "version": 3
   },
   "file_extension": ".py",
   "mimetype": "text/x-python",
   "name": "python",
   "nbconvert_exporter": "python",
   "pygments_lexer": "ipython3",
   "version": "3.9.5"
  }
 },
 "nbformat": 4,
 "nbformat_minor": 5
}
