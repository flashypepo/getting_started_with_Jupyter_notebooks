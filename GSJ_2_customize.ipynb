{
 "cells": [
  {
   "cell_type": "markdown",
   "id": "78aa8738-dc53-41a9-acc7-6159d93b58f0",
   "metadata": {},
   "source": [
    "# 2. Customizing your notebooks\n",
    "\n",
    "### Workflow\n",
    "√ Start the Notebook server and create a new notebook for milestone two. Set the Kernel to your virtual environment, then check if you can import NLTK.\n",
    "\n",
    "√ Install NumPy via pip from a code cell in your notebook. Note: used `conda` instead of `pip`.\n",
    "\n",
    "√ Start a new code cell and use the LaTeX magic to render the Pythagorean theorem (a2 + b2 = c2). Evaluate the cell.\n",
    "\n",
    "√ Start a new code cell. Define two versions of factorial. Let factorialA be a function that computes n factorial using a for loop. FactorialB should use recursion. Start a new cell and call factorialA with argument 100 using the %timeit magic. Evaluate the cell to see how long it takes to compute. Start a new cell and call factorialB with argument 100 using %timeit. Evaluate the cell. Which implementation of factorial is faster?\n",
    "\n",
    "5. Start a new code cell and embed [this video](https://www.youtube.com/watch?v=Y7uNT0alrKk&ab_channel=ManningPublications) into your notebook. Evaluate the cell.\n",
    "\n",
    "6. Install nbextensions into your environment. Restart the kernel.\n",
    "\n",
    "7. Go to Edit > nbextensions config and enable the following extensions: Collapsible Headings, Table of Contents (2), Hinterland, and Comment/Uncomment Hotkey. Check their parameters, too.\n",
    "\n",
    "8. Install the non-official Black code formatter and the notebook extension for it.\n",
    "\n",
    "9. Restart your notebook server and reopen the notebook you are using for this milestone. Now, reformat Python code cells with Black.\n",
    "\n",
    "10. Generate a table of contents. Check if the headings of your notebook are collapsible.\n",
    "\n",
    "11. Try to comment out factorialA or factorialB using HotKey in the code cell where you defined factorial functions.\n",
    "\n",
    "12. Make a new code cell. Define a function similar to itertool.combinations. You can also check its documentation and use the example definition of it. Can you see that possible extensions of the words you type are popping up? Congratulations, you can use code completion from now on.\n",
    "\n",
    "13. Start a new markdown cell. Sometimes you need to write down equations. You can mix LaTeX code with markdown, so you can typeset beautiful equations with simple markdown code.\n",
    "\n",
    "14. Check out Jupyter themes and install one that you like. It is completely acceptable that you like the default theme. However, keep in mind that sometimes it is better to use a dark theme, such as when you have to present your work to your colleagues on a big screen.\n",
    "\n",
    "### Deliverables\n",
    "1. The deliverable is a Jupyter Notebook that contains a code cell which installs the NumPy package. Another code cell should contain the function definition of factorial. It should contain a docstring too. It should be indented and formatted according to Black’s conventions.\n",
    "\n",
    "2. If you check our reference implementation, you will see a notebook containing a table of contents section, and various code and markdown cells. Feel free to check it, if you don’t want to waste your time on implementing various versions of factorial.\n",
    "\n",
    "3. Upload a link to your deliverable in the Submit Your Work section and click submit. After submitting, the Author’s solution and peer solutions will appear on the page for you to examine."
   ]
  },
  {
   "cell_type": "code",
   "execution_count": 1,
   "id": "38512cef-9d67-46c6-afd8-cb561cd27cf4",
   "metadata": {},
   "outputs": [
    {
     "name": "stdout",
     "output_type": "stream",
     "text": [
      "nltk: 3.6.2\n",
      "numpy: 1.20.3\n",
      "tqdm: 4.60.0\n"
     ]
    }
   ],
   "source": [
    "# check versions\n",
    "import nltk\n",
    "import numpy as np\n",
    "import tqdm\n",
    "\n",
    "print(\"nltk:\", nltk.__version__)\n",
    "print(\"numpy:\", np.__version__)\n",
    "print(\"tqdm:\", tqdm.__version__)"
   ]
  },
  {
   "cell_type": "markdown",
   "id": "ac3fafbb-2960-4b0c-aa37-ac8fb6a81a28",
   "metadata": {},
   "source": [
    "### LateX magic\n",
    "\n",
    "Pythagorem theorem \\${a}^2 + {b}^2 = {c}^2$"
   ]
  },
  {
   "cell_type": "code",
   "execution_count": 8,
   "id": "746a69f3-81d4-4bad-82db-ec0721fc4ec3",
   "metadata": {},
   "outputs": [
    {
     "data": {
      "text/latex": [
       "\\begin{align}\n",
       "{a}^2 + {b}^2 = {c}^2\n",
       "\\end{align}\n"
      ],
      "text/plain": [
       "<IPython.core.display.Latex object>"
      ]
     },
     "metadata": {},
     "output_type": "display_data"
    }
   ],
   "source": [
    "%%latex\n",
    "\\begin{align}\n",
    "{a}^2 + {b}^2 = {c}^2\n",
    "\\end{align}"
   ]
  },
  {
   "cell_type": "markdown",
   "id": "2c73c7ca-d46d-4035-b9c8-b7af69bf7768",
   "metadata": {},
   "source": [
    "## Factorial timing\n",
    "\n",
    "1. functions defined with docstring.\n",
    "    * print via __doc__ attribute and via help()\n",
    "2. timed via %timeit\n",
    "\n",
    "Resource docstring: [Python Docstrings](https://www.programiz.com/python-programming/docstrings)\n",
    "\n",
    "Note: getting return via %timeit on one line doesnot work as expected."
   ]
  },
  {
   "cell_type": "code",
   "execution_count": 9,
   "id": "53fbd4d2-082e-461c-b630-b6a6bc683595",
   "metadata": {},
   "outputs": [
    {
     "name": "stdout",
     "output_type": "stream",
     "text": [
      "Takes in a number n and returns the factorial of n using a for-loop.\n",
      "        Parameters:\n",
      "            n (int): a decimal integer\n",
      "        Returns:\n",
      "            factorial of n\n",
      "    \n",
      "-------\n",
      "Help on function factorialA in module __main__:\n",
      "\n",
      "factorialA(n)\n",
      "    Takes in a number n and returns the factorial of n using a for-loop.\n",
      "    Parameters:\n",
      "        n (int): a decimal integer\n",
      "    Returns:\n",
      "        factorial of n\n",
      "\n"
     ]
    }
   ],
   "source": [
    "# factorialA using a loop\n",
    "def factorialA(n):\n",
    "    \"\"\"Takes in a number n and returns the factorial of n using a for-loop.\n",
    "        Parameters:\n",
    "            n (int): a decimal integer\n",
    "        Returns:\n",
    "            factorial of n\n",
    "    \"\"\"\n",
    "    fac = 1\n",
    "    for i in range(1, n + 1):\n",
    "        fac = fac * i\n",
    "    return fac\n",
    "\n",
    "\n",
    "print(factorialA.__doc__)\n",
    "print(\"-------\")\n",
    "help(factorialA)"
   ]
  },
  {
   "cell_type": "code",
   "execution_count": 10,
   "id": "963f8469-d74c-4dc4-b787-d251dda85369",
   "metadata": {},
   "outputs": [
    {
     "name": "stdout",
     "output_type": "stream",
     "text": [
      "Takes in a number n, returns the factorial of n using recursion.\n",
      "        Parameters:\n",
      "            n (int): a decimal integer\n",
      "        Returns:\n",
      "            factorial of n\n",
      "    \n",
      "-------\n",
      "Help on function factorialB in module __main__:\n",
      "\n",
      "factorialB(n)\n",
      "    Takes in a number n, returns the factorial of n using recursion.\n",
      "    Parameters:\n",
      "        n (int): a decimal integer\n",
      "    Returns:\n",
      "        factorial of n\n",
      "\n"
     ]
    }
   ],
   "source": [
    "# factorialB, using recursion\n",
    "def factorialB(n):\n",
    "    \"\"\"Takes in a number n, returns the factorial of n using recursion.\n",
    "        Parameters:\n",
    "            n (int): a decimal integer\n",
    "        Returns:\n",
    "            factorial of n\n",
    "    \"\"\"\n",
    "    if n == 1:\n",
    "        return n\n",
    "    else:\n",
    "        return n * factorialB(n - 1)\n",
    "\n",
    "\n",
    "print(factorialB.__doc__)\n",
    "print(\"-------\")\n",
    "help(factorialB)"
   ]
  },
  {
   "cell_type": "code",
   "execution_count": 11,
   "id": "60f67489-812e-40fb-8d27-6ef4d11f6c5d",
   "metadata": {},
   "outputs": [
    {
     "name": "stdout",
     "output_type": "stream",
     "text": [
      "12 µs ± 98.2 ns per loop (mean ± std. dev. of 7 runs, 100000 loops each)\n"
     ]
    }
   ],
   "source": [
    "%%timeit\n",
    "factorialA(100)"
   ]
  },
  {
   "cell_type": "code",
   "execution_count": 12,
   "id": "67f0a5b7-6fd9-4345-9582-5dba85c8b4c7",
   "metadata": {},
   "outputs": [
    {
     "name": "stdout",
     "output_type": "stream",
     "text": [
      "32.3 µs ± 2.22 µs per loop (mean ± std. dev. of 7 runs, 10000 loops each)\n"
     ]
    }
   ],
   "source": [
    "%%timeit\n",
    "factorialB(100)"
   ]
  },
  {
   "cell_type": "markdown",
   "id": "649d4170-d3fc-4909-9461-80449dd1a16e",
   "metadata": {},
   "source": [
    "Fastest implementation: **loop-version**. Apparently loops are very efficient. However, the result suprised me. Me was told that recursion was very efficient. Mhhh."
   ]
  },
  {
   "cell_type": "markdown",
   "id": "7ab1a89e-fb76-4759-b69a-ba65ac93af2d",
   "metadata": {},
   "source": [
    "## Running a video in cell\n"
   ]
  },
  {
   "cell_type": "code",
   "execution_count": 13,
   "id": "999ead63-7152-4c53-abfe-6a8bb9b0677e",
   "metadata": {},
   "outputs": [
    {
     "ename": "ModuleNotFoundError",
     "evalue": "No module named 'ipywidgets'",
     "output_type": "error",
     "traceback": [
      "\u001b[0;31m---------------------------------------------------------------------------\u001b[0m",
      "\u001b[0;31mModuleNotFoundError\u001b[0m                       Traceback (most recent call last)",
      "\u001b[0;32m<ipython-input-13-54a15c467f7e>\u001b[0m in \u001b[0;36m<module>\u001b[0;34m\u001b[0m\n\u001b[0;32m----> 1\u001b[0;31m \u001b[0;32mfrom\u001b[0m \u001b[0mipywidgets\u001b[0m \u001b[0;32mimport\u001b[0m \u001b[0mVideo\u001b[0m\u001b[0;34m\u001b[0m\u001b[0;34m\u001b[0m\u001b[0m\n\u001b[0m\u001b[1;32m      2\u001b[0m \u001b[0;34m\u001b[0m\u001b[0m\n\u001b[1;32m      3\u001b[0m \u001b[0mvideo_url\u001b[0m \u001b[0;34m=\u001b[0m \u001b[0;34m\"https://www.youtube.com/watch?v=Y7uNT0alrKk&ab_channel=ManningPublications\"\u001b[0m\u001b[0;34m\u001b[0m\u001b[0;34m\u001b[0m\u001b[0m\n\u001b[1;32m      4\u001b[0m \u001b[0mvideo_url2\u001b[0m \u001b[0;34m=\u001b[0m \u001b[0;34m\"https://webrtc.github.io/samples/src/video/chrome.webm\"\u001b[0m\u001b[0;34m\u001b[0m\u001b[0;34m\u001b[0m\u001b[0m\n\u001b[1;32m      5\u001b[0m \u001b[0;34m\u001b[0m\u001b[0m\n",
      "\u001b[0;31mModuleNotFoundError\u001b[0m: No module named 'ipywidgets'"
     ]
    }
   ],
   "source": [
    "from ipywidgets import Video\n",
    "\n",
    "video_url = \"https://www.youtube.com/watch?v=Y7uNT0alrKk&ab_channel=ManningPublications\"\n",
    "video_url2 = \"https://webrtc.github.io/samples/src/video/chrome.webm\"\n",
    "\n",
    "Video.from_url(video_url)"
   ]
  },
  {
   "cell_type": "code",
   "execution_count": null,
   "id": "d8db8450-529a-4a35-b208-97a1a195a0d8",
   "metadata": {},
   "outputs": [],
   "source": []
  }
 ],
 "metadata": {
  "kernelspec": {
   "display_name": "lifeproject",
   "language": "python",
   "name": "lifeproject"
  },
  "language_info": {
   "codemirror_mode": {
    "name": "ipython",
    "version": 3
   },
   "file_extension": ".py",
   "mimetype": "text/x-python",
   "name": "python",
   "nbconvert_exporter": "python",
   "pygments_lexer": "ipython3",
   "version": "3.9.5"
  }
 },
 "nbformat": 4,
 "nbformat_minor": 5
}
