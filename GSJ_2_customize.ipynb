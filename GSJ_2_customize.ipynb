{
 "cells": [
  {
   "cell_type": "markdown",
   "id": "78aa8738-dc53-41a9-acc7-6159d93b58f0",
   "metadata": {},
   "source": [
    "# 2. Customizing your notebooks\n",
    "\n",
    "### Workflow\n",
    "1. Start the Notebook server and create a new notebook for milestone two. Set the Kernel to your virtual environment, then check if you can import NLTK.\n",
    "\n",
    "2. Install NumPy via pip from a code cell in your notebook.\n",
    "\n",
    "3. Start a new code cell and use the LaTeX magic to render the Pythagorean theorem (a2 + b2 = c2). Evaluate the cell.\n",
    "\n",
    "4. Start a new code cell. Define two versions of factorial. Let factorialA be a function that computes n factorial using a for loop. FactorialB should use recursion. Start a new cell and call factorialA with argument 100 using the %timeit magic. Evaluate the cell to see how long it takes to compute. Start a new cell and call factorialB with argument 100 using %timeit. Evaluate the cell. Which implementation of factorial is faster?\n",
    "\n",
    "5. Start a new code cell and embed this video into your notebook. Evaluate the cell.\n",
    "\n",
    "6. Install nbextensions into your environment. Restart the kernel.\n",
    "\n",
    "7. Go to Edit > nbextensions config and enable the following extensions: Collapsible Headings, Table of Contents (2), Hinterland, and Comment/Uncomment Hotkey. Check their parameters, too.\n",
    "\n",
    "8. Install the non-official Black code formatter and the notebook extension for it.\n",
    "\n",
    "9. Restart your notebook server and reopen the notebook you are using for this milestone. Now, reformat Python code cells with Black.\n",
    "\n",
    "10. Generate a table of contents. Check if the headings of your notebook are collapsible.\n",
    "\n",
    "11. Try to comment out factorialA or factorialB using HotKey in the code cell where you defined factorial functions.\n",
    "\n",
    "12. Make a new code cell. Define a function similar to itertool.combinations. You can also check its documentation and use the example definition of it. Can you see that possible extensions of the words you type are popping up? Congratulations, you can use code completion from now on.\n",
    "\n",
    "13. Start a new markdown cell. Sometimes you need to write down equations. You can mix LaTeX code with markdown, so you can typeset beautiful equations with simple markdown code.\n",
    "\n",
    "14. Check out Jupyter themes and install one that you like. It is completely acceptable that you like the default theme. However, keep in mind that sometimes it is better to use a dark theme, such as when you have to present your work to your colleagues on a big screen.\n",
    "\n",
    "### Deliverables\n",
    "1. The deliverable is a Jupyter Notebook that contains a code cell which installs the NumPy package. Another code cell should contain the function definition of factorial. It should contain a docstring too. It should be indented and formatted according to Black’s conventions.\n",
    "\n",
    "2. If you check our reference implementation, you will see a notebook containing a table of contents section, and various code and markdown cells. Feel free to check it, if you don’t want to waste your time on implementing various versions of factorial.\n",
    "\n",
    "3. Upload a link to your deliverable in the Submit Your Work section and click submit. After submitting, the Author’s solution and peer solutions will appear on the page for you to examine."
   ]
  },
  {
   "cell_type": "code",
   "execution_count": 4,
   "id": "38512cef-9d67-46c6-afd8-cb561cd27cf4",
   "metadata": {},
   "outputs": [
    {
     "name": "stdout",
     "output_type": "stream",
     "text": [
      "numpy: 1.20.3\n",
      "tqdm: 4.60.0\n",
      "nltk: 3.6.2\n"
     ]
    }
   ],
   "source": [
    "# check versions\n",
    "# numpy\n",
    "import numpy as np\n",
    "print(\"numpy:\", np.__version__)\n",
    "# tqdm\n",
    "import tqdm\n",
    "print(\"tqdm:\", tqdm.__version__)\n",
    "# nltk\n",
    "import nltk\n",
    "print(\"nltk:\", nltk.__version__)"
   ]
  },
  {
   "cell_type": "markdown",
   "id": "ac3fafbb-2960-4b0c-aa37-ac8fb6a81a28",
   "metadata": {},
   "source": [
    "### LateX magic"
   ]
  }
 ],
 "metadata": {
  "kernelspec": {
   "display_name": "lifeproject",
   "language": "python",
   "name": "lifeproject"
  },
  "language_info": {
   "codemirror_mode": {
    "name": "ipython",
    "version": 3
   },
   "file_extension": ".py",
   "mimetype": "text/x-python",
   "name": "python",
   "nbconvert_exporter": "python",
   "pygments_lexer": "ipython3",
   "version": "3.9.5"
  }
 },
 "nbformat": 4,
 "nbformat_minor": 5
}
